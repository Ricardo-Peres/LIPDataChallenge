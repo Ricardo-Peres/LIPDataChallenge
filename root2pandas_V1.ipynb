{
 "cells": [
  {
   "cell_type": "code",
   "execution_count": 34,
   "metadata": {
    "collapsed": false
   },
   "outputs": [
    {
     "name": "stdout",
     "output_type": "stream",
     "text": [
      "Once deleted, variables cannot be recovered. Proceed (y/[n])? y\n"
     ]
    }
   ],
   "source": [
    "%reset"
   ]
  },
  {
   "cell_type": "code",
   "execution_count": 35,
   "metadata": {
    "collapsed": false
   },
   "outputs": [
    {
     "data": {
      "text/plain": [
       "<matplotlib.figure.Figure at 0x7f0efa8a82b0>"
      ]
     },
     "metadata": {},
     "output_type": "display_data"
    }
   ],
   "source": [
    "import numpy as np\n",
    "\n",
    "import matplotlib \n",
    "import matplotlib.pyplot as plt\n",
    "import matplotlib.dates as mdates          # for plotting dates\n",
    "from matplotlib import gridspec            # to arrange the plots nicely\n",
    "from matplotlib.colors import LogNorm\n",
    "from matplotlib.patches import Circle\n",
    "\n",
    "import pandas as pd\n",
    "\n",
    "import glob\n",
    "\n",
    "import os.path\n",
    "\n",
    "import ROOT\n",
    "from root_numpy import root2array, tree2array\n",
    "\n",
    "from IPython.display import Image\n",
    "from IPython.display import display\n",
    "from IPython.core.display import HTML \n",
    "\n",
    "from collections import defaultdict\n",
    "\n",
    "from pathlib import Path\n",
    "\n",
    "from tqdm import tqdm\n",
    "\n",
    "import datetime\n",
    "\n",
    "# matplotlib configuration\n",
    "%matplotlib inline \n",
    "%config InlineBackend.figure_format = 'retina'   # enable if you have a retina display\n",
    "matplotlib.rc('font', size = 16)                 # Use big fonts...\n",
    "plt.rcParams['figure.figsize'] = (10, 8)         # ... and big plots\n",
    "#plt.rcParams['figure.figsize'] = (6, 4) \n",
    "plt.set_cmap('viridis')"
   ]
  },
  {
   "cell_type": "code",
   "execution_count": 36,
   "metadata": {
    "collapsed": true
   },
   "outputs": [],
   "source": [
    "# From Erik Hogenbirk's notes and functions\n",
    "def get_file_list(path, pattern, remove_string='', remove_path=True):\n",
    "    '''\n",
    "    Get a liuserst of files matching pattern in path. Optional to remove a part of the path (i.e. the extention)\n",
    "    Optional to remove the path\n",
    "    '''\n",
    "    file_list = glob.glob(path + pattern)\n",
    "    # Remove path\n",
    "    for i, f in enumerate(file_list):\n",
    "        if remove_path:\n",
    "            f = f.replace(path, '')\n",
    "        if remove_string != '':\n",
    "            f = f.replace(remove_string, '')\n",
    "        file_list[i] = f\n",
    "    file_list = np.sort(file_list)\n",
    "    return file_list"
   ]
  },
  {
   "cell_type": "code",
   "execution_count": 37,
   "metadata": {
    "collapsed": true
   },
   "outputs": [],
   "source": [
    "mainpath = 'data-challenge/'\n",
    "g_stnd = mainpath + 'gluons_standard/'\n",
    "q_stnd = mainpath + 'quarks_standard/'"
   ]
  },
  {
   "cell_type": "code",
   "execution_count": 38,
   "metadata": {
    "collapsed": false
   },
   "outputs": [],
   "source": [
    "N_toload = 100"
   ]
  },
  {
   "cell_type": "markdown",
   "metadata": {},
   "source": [
    "## Loading Standard Gluons"
   ]
  },
  {
   "cell_type": "code",
   "execution_count": 39,
   "metadata": {
    "collapsed": false
   },
   "outputs": [
    {
     "name": "stdout",
     "output_type": "stream",
     "text": [
      "['REDUCED_gluons_0' 'REDUCED_gluons_1' 'REDUCED_gluons_10'\n",
      " 'REDUCED_gluons_100' 'REDUCED_gluons_1002']\n"
     ]
    }
   ],
   "source": [
    "filelist = get_file_list(g_stnd,'REDUCED_gluons_*', '.root')\n",
    "print(filelist[:5])"
   ]
  },
  {
   "cell_type": "code",
   "execution_count": 40,
   "metadata": {
    "collapsed": true
   },
   "outputs": [],
   "source": [
    "file_select = filelist[:N_toload]"
   ]
  },
  {
   "cell_type": "code",
   "execution_count": 41,
   "metadata": {
    "collapsed": false,
    "scrolled": false
   },
   "outputs": [
    {
     "name": "stderr",
     "output_type": "stream",
     "text": [
      "100%|██████████| 100/100 [00:00<00:00, 119.74it/s]\n"
     ]
    }
   ],
   "source": [
    "data_l = []\n",
    "\n",
    "for i in tqdm(file_select):\n",
    "    direc = i + '.root'\n",
    "    #print ('loading',  direc)\n",
    "    Rfile = ROOT.TFile(g_stnd+direc)\n",
    "    tree = Rfile.Get('treeJets')\n",
    "    events = tree.GetEntries()\n",
    "    #print (eventos, \"entries read from sorted file\")\n",
    "    branchez = tree2array(tree, branches=['jetPt',\n",
    "                                                      'jetEta',\n",
    "                                                      'jetPhi',\n",
    "                                                     'jetMass',\n",
    "                                                     'ntracks',\n",
    "                                                     'ntowers',\n",
    "                                                     'trackPt',\n",
    "                                                     'trackEta',\n",
    "                                                     'trackPhi',\n",
    "                                                     'trackCharge',\n",
    "                                                     'towerE',\n",
    "                                                     'towerEem',\n",
    "                                                     'towerEhad',\n",
    "                                                     'towerEta',\n",
    "                                                     'towerPhi'])\n",
    "    df_ = pd.DataFrame(branchez)\n",
    "    data_l.append(df_)\n"
   ]
  },
  {
   "cell_type": "code",
   "execution_count": 42,
   "metadata": {
    "collapsed": true
   },
   "outputs": [],
   "source": [
    "data_gluons = pd.concat(data_l)"
   ]
  },
  {
   "cell_type": "code",
   "execution_count": 43,
   "metadata": {
    "collapsed": true
   },
   "outputs": [],
   "source": [
    "data_gluons.to_pickle('saves/data_gluons100.pkl')"
   ]
  },
  {
   "cell_type": "markdown",
   "metadata": {},
   "source": [
    "#### To load from pickle file"
   ]
  },
  {
   "cell_type": "code",
   "execution_count": 44,
   "metadata": {
    "collapsed": true
   },
   "outputs": [],
   "source": [
    "#data_gluons = pd.read_pickle('saves/data_gluons100.pkl')"
   ]
  },
  {
   "cell_type": "code",
   "execution_count": null,
   "metadata": {
    "collapsed": true
   },
   "outputs": [],
   "source": []
  },
  {
   "cell_type": "markdown",
   "metadata": {},
   "source": [
    "## Loading Standard Quarks"
   ]
  },
  {
   "cell_type": "code",
   "execution_count": 45,
   "metadata": {
    "collapsed": false
   },
   "outputs": [
    {
     "name": "stdout",
     "output_type": "stream",
     "text": [
      "['REDUCED_quarks_0' 'REDUCED_quarks_1' 'REDUCED_quarks_10'\n",
      " 'REDUCED_quarks_100' 'REDUCED_quarks_1000']\n"
     ]
    }
   ],
   "source": [
    "filelist = get_file_list(q_stnd,'REDUCED_quarks_*', '.root')\n",
    "print(filelist[:5])"
   ]
  },
  {
   "cell_type": "code",
   "execution_count": 46,
   "metadata": {
    "collapsed": true
   },
   "outputs": [],
   "source": [
    "file_select = filelist[:N_toload]"
   ]
  },
  {
   "cell_type": "code",
   "execution_count": 47,
   "metadata": {
    "collapsed": false,
    "scrolled": false
   },
   "outputs": [
    {
     "name": "stderr",
     "output_type": "stream",
     "text": [
      "100%|██████████| 100/100 [00:01<00:00, 56.43it/s]\n"
     ]
    }
   ],
   "source": [
    "data_l = []\n",
    "\n",
    "for i in tqdm(file_select):\n",
    "    direc = i + '.root'\n",
    "    #print ('loading',  direc)\n",
    "    Rfile = ROOT.TFile(q_stnd+direc)\n",
    "    tree = Rfile.Get('treeJets')\n",
    "    events = tree.GetEntries()\n",
    "    #print (eventos, \"entries read from sorted file\")\n",
    "    branchez = tree2array(tree, branches=['jetPt',\n",
    "                                                      'jetEta',\n",
    "                                                      'jetPhi',\n",
    "                                                     'jetMass',\n",
    "                                                     'ntracks',\n",
    "                                                     'ntowers',\n",
    "                                                     'trackPt',\n",
    "                                                     'trackEta',\n",
    "                                                     'trackPhi',\n",
    "                                                     'trackCharge',\n",
    "                                                     'towerE',\n",
    "                                                     'towerEem',\n",
    "                                                     'towerEhad',\n",
    "                                                     'towerEta',\n",
    "                                                     'towerPhi'])\n",
    "    df_ = pd.DataFrame(branchez)\n",
    "    data_l.append(df_)\n"
   ]
  },
  {
   "cell_type": "code",
   "execution_count": 48,
   "metadata": {
    "collapsed": true
   },
   "outputs": [],
   "source": [
    "data_quarks = pd.concat(data_l)"
   ]
  },
  {
   "cell_type": "code",
   "execution_count": 49,
   "metadata": {
    "collapsed": true
   },
   "outputs": [],
   "source": [
    "data_quarks.to_pickle('saves/data_quarks100.pkl')"
   ]
  },
  {
   "cell_type": "code",
   "execution_count": null,
   "metadata": {
    "collapsed": true
   },
   "outputs": [],
   "source": []
  },
  {
   "cell_type": "markdown",
   "metadata": {},
   "source": [
    "#### To load from pickle file"
   ]
  },
  {
   "cell_type": "code",
   "execution_count": 50,
   "metadata": {
    "collapsed": true
   },
   "outputs": [],
   "source": [
    "#data_quarks = pd.read_pickle('saves/data_quarks100.pkl')"
   ]
  },
  {
   "cell_type": "markdown",
   "metadata": {
    "collapsed": true
   },
   "source": [
    "## Concat both quarks and gluons"
   ]
  },
  {
   "cell_type": "code",
   "execution_count": 51,
   "metadata": {
    "collapsed": false
   },
   "outputs": [],
   "source": [
    "data_quarks['is_quark'] = 1\n",
    "data_gluons['is_quark'] = 0"
   ]
  },
  {
   "cell_type": "code",
   "execution_count": 52,
   "metadata": {
    "collapsed": false
   },
   "outputs": [],
   "source": [
    "data_tot = pd.concat([data_quarks,data_gluons])"
   ]
  },
  {
   "cell_type": "code",
   "execution_count": 53,
   "metadata": {
    "collapsed": false
   },
   "outputs": [
    {
     "data": {
      "text/plain": [
       "True"
      ]
     },
     "execution_count": 53,
     "metadata": {},
     "output_type": "execute_result"
    }
   ],
   "source": [
    "len(data_tot) == len(data_gluons) + len(data_quarks)"
   ]
  },
  {
   "cell_type": "code",
   "execution_count": 54,
   "metadata": {
    "collapsed": true
   },
   "outputs": [],
   "source": [
    "del data_gluons, data_quarks"
   ]
  },
  {
   "cell_type": "code",
   "execution_count": 55,
   "metadata": {
    "collapsed": false
   },
   "outputs": [
    {
     "data": {
      "text/plain": [
       "331447"
      ]
     },
     "execution_count": 55,
     "metadata": {},
     "output_type": "execute_result"
    }
   ],
   "source": [
    "len(data_tot)"
   ]
  },
  {
   "cell_type": "code",
   "execution_count": 56,
   "metadata": {
    "collapsed": false
   },
   "outputs": [
    {
     "data": {
      "text/html": [
       "<div>\n",
       "<table border=\"1\" class=\"dataframe\">\n",
       "  <thead>\n",
       "    <tr style=\"text-align: right;\">\n",
       "      <th></th>\n",
       "      <th>jetPt</th>\n",
       "      <th>jetEta</th>\n",
       "      <th>jetPhi</th>\n",
       "      <th>jetMass</th>\n",
       "      <th>ntracks</th>\n",
       "      <th>ntowers</th>\n",
       "      <th>trackPt</th>\n",
       "      <th>trackEta</th>\n",
       "      <th>trackPhi</th>\n",
       "      <th>trackCharge</th>\n",
       "      <th>towerE</th>\n",
       "      <th>towerEem</th>\n",
       "      <th>towerEhad</th>\n",
       "      <th>towerEta</th>\n",
       "      <th>towerPhi</th>\n",
       "      <th>is_quark</th>\n",
       "    </tr>\n",
       "  </thead>\n",
       "  <tbody>\n",
       "    <tr>\n",
       "      <th>0</th>\n",
       "      <td>103.684669</td>\n",
       "      <td>0.935927</td>\n",
       "      <td>-0.462394</td>\n",
       "      <td>12.185929</td>\n",
       "      <td>10</td>\n",
       "      <td>11</td>\n",
       "      <td>[0.658297, 2.99041, 4.54432, 7.43951, 6.03095,...</td>\n",
       "      <td>[0.974205, 0.724936, 0.843639, 0.881152, 0.885...</td>\n",
       "      <td>[-0.786424, -0.43412, -0.509825, -0.529073, -0...</td>\n",
       "      <td>[1.0, -1.0, 1.0, -1.0, 1.0, -1.0, 1.0, -1.0, -...</td>\n",
       "      <td>[5.40526, 1.7866, 0.506928, 2.19815, 2.01827, ...</td>\n",
       "      <td>[0.0, 1.7866, 0.506928, 2.19815, 2.01827, 5.71...</td>\n",
       "      <td>[5.40526, 0.0, 0.0, 0.0, 0.0, 0.0, 0.0, 0.0, 0...</td>\n",
       "      <td>[1.11813, 0.98138, 0.72509, 0.882321, 1.11605,...</td>\n",
       "      <td>[-0.174458, -0.807864, -0.685259, -0.753272, -...</td>\n",
       "      <td>1</td>\n",
       "    </tr>\n",
       "    <tr>\n",
       "      <th>1</th>\n",
       "      <td>105.459686</td>\n",
       "      <td>-2.169188</td>\n",
       "      <td>-0.184820</td>\n",
       "      <td>5.329337</td>\n",
       "      <td>6</td>\n",
       "      <td>13</td>\n",
       "      <td>[4.75203, 11.5548, 12.1593, 14.7636, 5.79062, ...</td>\n",
       "      <td>[-2.15903, -2.15263, -2.16527, -2.15561, -2.18...</td>\n",
       "      <td>[-0.0971889, -0.202023, -0.206949, -0.175935, ...</td>\n",
       "      <td>[1.0, -1.0, -1.0, 1.0, 1.0, -1.0]</td>\n",
       "      <td>[2.68879, 0.652871, 1.06423, 2.30867, 10.1491,...</td>\n",
       "      <td>[2.68879, 0.652871, 1.06423, 2.30867, 10.1491,...</td>\n",
       "      <td>[0.0, 0.0, 0.0, 0.0, 0.0, 0.0, 0.0, 0.0, 0.0, ...</td>\n",
       "      <td>[-2.4875, -2.20908, -2.34613, -2.18052, -2.074...</td>\n",
       "      <td>[-0.148883, -0.488303, -0.400675, -0.331134, -...</td>\n",
       "      <td>1</td>\n",
       "    </tr>\n",
       "    <tr>\n",
       "      <th>2</th>\n",
       "      <td>117.692581</td>\n",
       "      <td>2.052179</td>\n",
       "      <td>1.525573</td>\n",
       "      <td>6.688938</td>\n",
       "      <td>8</td>\n",
       "      <td>3</td>\n",
       "      <td>[1.21861, 1.90776, 6.72233, 2.28901, 6.63201, ...</td>\n",
       "      <td>[2.18729, 2.12519, 1.97753, 2.10783, 1.99983, ...</td>\n",
       "      <td>[1.22483, 1.45326, 1.46805, 1.583, 1.52557, 1....</td>\n",
       "      <td>[-1.0, 1.0, -1.0, -1.0, -1.0, -1.0, 1.0, 1.0]</td>\n",
       "      <td>[2.06779, 3.93498, 117.223]</td>\n",
       "      <td>[2.06779, 3.93498, 0.0]</td>\n",
       "      <td>[0.0, 0.0, 117.223]</td>\n",
       "      <td>[2.07049, 2.03573, 2.07084]</td>\n",
       "      <td>[1.84012, 1.65678, 1.54928]</td>\n",
       "      <td>1</td>\n",
       "    </tr>\n",
       "    <tr>\n",
       "      <th>3</th>\n",
       "      <td>118.608940</td>\n",
       "      <td>1.031448</td>\n",
       "      <td>1.762748</td>\n",
       "      <td>8.983985</td>\n",
       "      <td>9</td>\n",
       "      <td>11</td>\n",
       "      <td>[0.909293, 3.46142, 3.94686, 6.87763, 7.5992, ...</td>\n",
       "      <td>[1.37594, 1.09802, 1.02046, 1.10247, 1.06275, ...</td>\n",
       "      <td>[1.679, 1.866, 1.64923, 1.78978, 1.71343, 1.76...</td>\n",
       "      <td>[1.0, -1.0, -1.0, 1.0, 1.0, 1.0, -1.0, 1.0, -1.0]</td>\n",
       "      <td>[0.637116, 0.698088, 0.649282, 1.34355, 0.8573...</td>\n",
       "      <td>[0.637116, 0.698088, 0.649282, 1.34355, 0.8573...</td>\n",
       "      <td>[0.0, 0.0, 0.0, 0.0, 0.0, 0.0, 41.0815, 0.0, 0...</td>\n",
       "      <td>[0.997764, 0.993801, 0.766123, 0.870325, 1.164...</td>\n",
       "      <td>[2.09247, 1.44031, 1.6079, 1.53551, 1.84283, 1...</td>\n",
       "      <td>1</td>\n",
       "    </tr>\n",
       "    <tr>\n",
       "      <th>4</th>\n",
       "      <td>112.469429</td>\n",
       "      <td>0.128362</td>\n",
       "      <td>2.737449</td>\n",
       "      <td>24.100706</td>\n",
       "      <td>11</td>\n",
       "      <td>12</td>\n",
       "      <td>[4.78455, 2.89064, 1.82962, 10.2045, 3.6043, 4...</td>\n",
       "      <td>[0.411526, 0.413723, 0.131721, 0.230755, 0.133...</td>\n",
       "      <td>[2.49044, 2.52339, 2.42645, 2.48392, 2.7275, 2...</td>\n",
       "      <td>[-1.0, -1.0, -1.0, 1.0, 1.0, 1.0, -1.0, 1.0, 1...</td>\n",
       "      <td>[1.15971, 1.56974, 10.269, 0.937413, 22.5689, ...</td>\n",
       "      <td>[1.15971, 1.56974, 0.0, 0.937413, 0.0, 1.89541...</td>\n",
       "      <td>[0.0, 0.0, 10.269, 0.0, 22.5689, 0.0, 0.0, 0.0...</td>\n",
       "      <td>[0.102403, 0.0165063, -0.0242264, -0.0495756, ...</td>\n",
       "      <td>[2.87266, 2.68738, 2.66874, 2.73986, 2.72819, ...</td>\n",
       "      <td>1</td>\n",
       "    </tr>\n",
       "  </tbody>\n",
       "</table>\n",
       "</div>"
      ],
      "text/plain": [
       "        jetPt    jetEta    jetPhi    jetMass  ntracks  ntowers  \\\n",
       "0  103.684669  0.935927 -0.462394  12.185929       10       11   \n",
       "1  105.459686 -2.169188 -0.184820   5.329337        6       13   \n",
       "2  117.692581  2.052179  1.525573   6.688938        8        3   \n",
       "3  118.608940  1.031448  1.762748   8.983985        9       11   \n",
       "4  112.469429  0.128362  2.737449  24.100706       11       12   \n",
       "\n",
       "                                             trackPt  \\\n",
       "0  [0.658297, 2.99041, 4.54432, 7.43951, 6.03095,...   \n",
       "1  [4.75203, 11.5548, 12.1593, 14.7636, 5.79062, ...   \n",
       "2  [1.21861, 1.90776, 6.72233, 2.28901, 6.63201, ...   \n",
       "3  [0.909293, 3.46142, 3.94686, 6.87763, 7.5992, ...   \n",
       "4  [4.78455, 2.89064, 1.82962, 10.2045, 3.6043, 4...   \n",
       "\n",
       "                                            trackEta  \\\n",
       "0  [0.974205, 0.724936, 0.843639, 0.881152, 0.885...   \n",
       "1  [-2.15903, -2.15263, -2.16527, -2.15561, -2.18...   \n",
       "2  [2.18729, 2.12519, 1.97753, 2.10783, 1.99983, ...   \n",
       "3  [1.37594, 1.09802, 1.02046, 1.10247, 1.06275, ...   \n",
       "4  [0.411526, 0.413723, 0.131721, 0.230755, 0.133...   \n",
       "\n",
       "                                            trackPhi  \\\n",
       "0  [-0.786424, -0.43412, -0.509825, -0.529073, -0...   \n",
       "1  [-0.0971889, -0.202023, -0.206949, -0.175935, ...   \n",
       "2  [1.22483, 1.45326, 1.46805, 1.583, 1.52557, 1....   \n",
       "3  [1.679, 1.866, 1.64923, 1.78978, 1.71343, 1.76...   \n",
       "4  [2.49044, 2.52339, 2.42645, 2.48392, 2.7275, 2...   \n",
       "\n",
       "                                         trackCharge  \\\n",
       "0  [1.0, -1.0, 1.0, -1.0, 1.0, -1.0, 1.0, -1.0, -...   \n",
       "1                  [1.0, -1.0, -1.0, 1.0, 1.0, -1.0]   \n",
       "2      [-1.0, 1.0, -1.0, -1.0, -1.0, -1.0, 1.0, 1.0]   \n",
       "3  [1.0, -1.0, -1.0, 1.0, 1.0, 1.0, -1.0, 1.0, -1.0]   \n",
       "4  [-1.0, -1.0, -1.0, 1.0, 1.0, 1.0, -1.0, 1.0, 1...   \n",
       "\n",
       "                                              towerE  \\\n",
       "0  [5.40526, 1.7866, 0.506928, 2.19815, 2.01827, ...   \n",
       "1  [2.68879, 0.652871, 1.06423, 2.30867, 10.1491,...   \n",
       "2                        [2.06779, 3.93498, 117.223]   \n",
       "3  [0.637116, 0.698088, 0.649282, 1.34355, 0.8573...   \n",
       "4  [1.15971, 1.56974, 10.269, 0.937413, 22.5689, ...   \n",
       "\n",
       "                                            towerEem  \\\n",
       "0  [0.0, 1.7866, 0.506928, 2.19815, 2.01827, 5.71...   \n",
       "1  [2.68879, 0.652871, 1.06423, 2.30867, 10.1491,...   \n",
       "2                            [2.06779, 3.93498, 0.0]   \n",
       "3  [0.637116, 0.698088, 0.649282, 1.34355, 0.8573...   \n",
       "4  [1.15971, 1.56974, 0.0, 0.937413, 0.0, 1.89541...   \n",
       "\n",
       "                                           towerEhad  \\\n",
       "0  [5.40526, 0.0, 0.0, 0.0, 0.0, 0.0, 0.0, 0.0, 0...   \n",
       "1  [0.0, 0.0, 0.0, 0.0, 0.0, 0.0, 0.0, 0.0, 0.0, ...   \n",
       "2                                [0.0, 0.0, 117.223]   \n",
       "3  [0.0, 0.0, 0.0, 0.0, 0.0, 0.0, 41.0815, 0.0, 0...   \n",
       "4  [0.0, 0.0, 10.269, 0.0, 22.5689, 0.0, 0.0, 0.0...   \n",
       "\n",
       "                                            towerEta  \\\n",
       "0  [1.11813, 0.98138, 0.72509, 0.882321, 1.11605,...   \n",
       "1  [-2.4875, -2.20908, -2.34613, -2.18052, -2.074...   \n",
       "2                        [2.07049, 2.03573, 2.07084]   \n",
       "3  [0.997764, 0.993801, 0.766123, 0.870325, 1.164...   \n",
       "4  [0.102403, 0.0165063, -0.0242264, -0.0495756, ...   \n",
       "\n",
       "                                            towerPhi  is_quark  \n",
       "0  [-0.174458, -0.807864, -0.685259, -0.753272, -...         1  \n",
       "1  [-0.148883, -0.488303, -0.400675, -0.331134, -...         1  \n",
       "2                        [1.84012, 1.65678, 1.54928]         1  \n",
       "3  [2.09247, 1.44031, 1.6079, 1.53551, 1.84283, 1...         1  \n",
       "4  [2.87266, 2.68738, 2.66874, 2.73986, 2.72819, ...         1  "
      ]
     },
     "execution_count": 56,
     "metadata": {},
     "output_type": "execute_result"
    }
   ],
   "source": [
    "data_tot.head()"
   ]
  },
  {
   "cell_type": "code",
   "execution_count": 60,
   "metadata": {
    "collapsed": true
   },
   "outputs": [],
   "source": [
    "data_tot.to_pickle('saves/data_tot100.pkl')"
   ]
  },
  {
   "cell_type": "markdown",
   "metadata": {},
   "source": [
    "#### To load from pickle file"
   ]
  },
  {
   "cell_type": "code",
   "execution_count": 61,
   "metadata": {
    "collapsed": true
   },
   "outputs": [],
   "source": [
    "#data_tot = pd.read_pickle('saves/data_tot100.pkl')"
   ]
  },
  {
   "cell_type": "code",
   "execution_count": null,
   "metadata": {
    "collapsed": true
   },
   "outputs": [],
   "source": []
  },
  {
   "cell_type": "markdown",
   "metadata": {},
   "source": [
    "### Make dem plots!"
   ]
  },
  {
   "cell_type": "code",
   "execution_count": 59,
   "metadata": {
    "collapsed": false
   },
   "outputs": [
    {
     "data": {
      "image/png": "[encoded data removed]",
      "text/plain": [
       "<matplotlib.figure.Figure at 0x7f0ee2fa9c88>"
      ]
     },
     "metadata": {
      "image/png": {
       "height": 462,
       "width": 483
      }
     },
     "output_type": "display_data"
    }
   ],
   "source": [
    "plt.figure(figsize=(5,5))\n",
    "plt.hist(data_tot[data_tot['is_quark'] == 1]['jetMass'],\n",
    "        bins = 200,\n",
    "        histtype = 'step',\n",
    "        label = 'Quark')\n",
    "plt.hist(data_tot[data_tot['is_quark'] == 0]['jetMass'],\n",
    "        bins = 200,\n",
    "        histtype = 'step',\n",
    "        label = 'Gluon')\n",
    "plt.title('jetMass')\n",
    "plt.legend()\n",
    "plt.show()"
   ]
  },
  {
   "cell_type": "code",
   "execution_count": null,
   "metadata": {
    "collapsed": true
   },
   "outputs": [],
   "source": []
  },
  {
   "cell_type": "code",
   "execution_count": null,
   "metadata": {
    "collapsed": true
   },
   "outputs": [],
   "source": []
  },
  {
   "cell_type": "code",
   "execution_count": null,
   "metadata": {
    "collapsed": true
   },
   "outputs": [],
   "source": []
  },
  {
   "cell_type": "code",
   "execution_count": null,
   "metadata": {
    "collapsed": true
   },
   "outputs": [],
   "source": []
  }
 ],
 "metadata": {
  "kernelspec": {
   "display_name": "Python 3",
   "language": "python",
   "name": "python3"
  },
  "language_info": {
   "codemirror_mode": {
    "name": "ipython",
    "version": 3
   },
   "file_extension": ".py",
   "mimetype": "text/x-python",
   "name": "python",
   "nbconvert_exporter": "python",
   "pygments_lexer": "ipython3",
   "version": "3.4.5"
  }
 },
 "nbformat": 4,
 "nbformat_minor": 2
}
